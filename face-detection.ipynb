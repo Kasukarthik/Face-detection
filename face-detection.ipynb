{
 "cells": [
  {
   "cell_type": "code",
   "execution_count": 1,
   "id": "c5603247",
   "metadata": {},
   "outputs": [],
   "source": [
    "import cv2"
   ]
  },
  {
   "cell_type": "code",
   "execution_count": 2,
   "id": "678498c1",
   "metadata": {},
   "outputs": [],
   "source": [
    "#load the cascade\n",
    "face_cascade=cv2.CascadeClassifier(cv2.data.haarcascades+'haarcascade_frontalface_default.xml')\n",
    "#eye_cascade=cv2.CascadeClassifier(cv2.data.haarcascades+'haarcascade_eye.xml')"
   ]
  },
  {
   "cell_type": "code",
   "execution_count": 3,
   "id": "89bdb9f9",
   "metadata": {},
   "outputs": [],
   "source": [
    "#read the image\n",
    "img=cv2.imread(\"C:\\\\Users\\\\kasuk\\\\OneDrive\\\\Pictures\\\\Saved Pictures\\\\pics\\\\IMG_0215.JPG\")"
   ]
  },
  {
   "cell_type": "code",
   "execution_count": 4,
   "id": "d39fceab",
   "metadata": {},
   "outputs": [],
   "source": [
    "#convert image into grayscale\n",
    "gray=cv2.cvtColor(img,cv2.COLOR_BGR2GRAY)"
   ]
  },
  {
   "cell_type": "code",
   "execution_count": 5,
   "id": "2e31f60b",
   "metadata": {},
   "outputs": [],
   "source": [
    "#detect face\n",
    "faces=face_cascade.detectMultiScale(gray,1.1,10)\n",
    "#eye=eye_cascade.detectMultiScale(gray)"
   ]
  },
  {
   "cell_type": "code",
   "execution_count": 10,
   "id": "2c2760cc",
   "metadata": {},
   "outputs": [],
   "source": [
    "# draw rectangle around each face\n",
    "for (x,y,w,h) in faces:\n",
    "    cv2.rectangle(img,(x,y),(x+w,y+h),(0,0,255),2)\n",
    "    #display\n",
    "    if cv2.waitKey(10)==ord('q'):\n",
    "        break\n",
    "    cv2.imshow('img',img)"
   ]
  },
  {
   "cell_type": "code",
   "execution_count": null,
   "id": "26e92881",
   "metadata": {},
   "outputs": [],
   "source": []
  }
 ],
 "metadata": {
  "kernelspec": {
   "display_name": "Python 3 (ipykernel)",
   "language": "python",
   "name": "python3"
  },
  "language_info": {
   "codemirror_mode": {
    "name": "ipython",
    "version": 3
   },
   "file_extension": ".py",
   "mimetype": "text/x-python",
   "name": "python",
   "nbconvert_exporter": "python",
   "pygments_lexer": "ipython3",
   "version": "3.9.12"
  }
 },
 "nbformat": 4,
 "nbformat_minor": 5
}
